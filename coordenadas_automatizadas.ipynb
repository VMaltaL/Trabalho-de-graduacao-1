{
  "nbformat": 4,
  "nbformat_minor": 0,
  "metadata": {
    "colab": {
      "provenance": [],
      "authorship_tag": "ABX9TyM4WC8EzWG37W0JuH25C/Wv"
    },
    "kernelspec": {
      "name": "python3",
      "display_name": "Python 3"
    },
    "language_info": {
      "name": "python"
    }
  },
  "cells": [
    {
      "cell_type": "code",
      "execution_count": null,
      "metadata": {
        "id": "YMviBBD3Rs1A"
      },
      "outputs": [],
      "source": [
        "import numpy as np\n",
        "import matplotlib.pyplot as plt"
      ]
    },
    {
      "cell_type": "code",
      "source": [
        "distancia = 20\n",
        "\n",
        "PA_1=-38.8,-16\n",
        "PA_2=-39.5,-18\n",
        "PA_3=-40.2,-20\n",
        "PA_4=-41,-22\n",
        "PA_5=-43.75,-23\n",
        "PA_6=-46.5,-24\n",
        "\n",
        "PA = [PA_1,PA_2,PA_3,PA_4,PA_5,PA_6]\n",
        "angulo_graus = [5,12,20,27,36,45]"
      ],
      "metadata": {
        "id": "XrbbJpsdUz_u"
      },
      "execution_count": null,
      "outputs": []
    },
    {
      "cell_type": "code",
      "source": [
        "def coordenadas(angulo,longitude_inicial,latitude_inicial,distancia):\n",
        "\n",
        "  hipotenusa = distancia\n",
        "\n",
        "  cateto_oposto = np.cos(angulo_rad)*distancia\n",
        "  cateto_adjacente = np.sin(angulo_rad)*distancia\n",
        "\n",
        "  longitude_final = longitude_inicial + cateto_oposto\n",
        "  latitude_final = latitude_inicial - cateto_adjacente\n",
        "  return (longitude_final,latitude_final)"
      ],
      "metadata": {
        "id": "VL1TiRfCUXdo"
      },
      "execution_count": null,
      "outputs": []
    },
    {
      "cell_type": "code",
      "source": [
        "PB = [None,None,None,None,None,None]\n",
        "for i in range(len(PA)):\n",
        "  angulo = angulo_graus[i]\n",
        "  angulo_rad = np.radians(angulo)\n",
        "  PB[i] = coordenadas(angulo_rad,PA[i][0],PA[i][1],distancia)"
      ],
      "metadata": {
        "id": "c2PSXJcFjtey"
      },
      "execution_count": null,
      "outputs": []
    },
    {
      "cell_type": "code",
      "source": [
        "for i in range(len(PB)):\n",
        "  a = PB[i][0]\n",
        "  b = PB[i][1]\n",
        "  a, b = float(a), float(b)\n",
        "\n",
        "  print(f\"PA_{i+1}= {PA[i][0]}/{PA[i][1]}\")\n",
        "  print(f\"PB_{i+1}= {a:0.2f}/{b:0.2f}\")\n",
        "  print()"
      ],
      "metadata": {
        "colab": {
          "base_uri": "https://localhost:8080/"
        },
        "id": "EnvKF3sckA4a",
        "outputId": "ae19bdc1-f889-4768-f9fb-2da0f0378e5d"
      },
      "execution_count": null,
      "outputs": [
        {
          "output_type": "stream",
          "name": "stdout",
          "text": [
            "PA_1= -38.8/-16\n",
            "PB_1= -18.88/-17.74\n",
            "\n",
            "PA_2= -39.5/-18\n",
            "PB_2= -19.94/-22.16\n",
            "\n",
            "PA_3= -40.2/-20\n",
            "PB_3= -21.41/-26.84\n",
            "\n",
            "PA_4= -41/-22\n",
            "PB_4= -23.18/-31.08\n",
            "\n",
            "PA_5= -43.75/-23\n",
            "PB_5= -27.57/-34.76\n",
            "\n",
            "PA_6= -46.5/-24\n",
            "PB_6= -32.36/-38.14\n",
            "\n"
          ]
        }
      ]
    }
  ]
}